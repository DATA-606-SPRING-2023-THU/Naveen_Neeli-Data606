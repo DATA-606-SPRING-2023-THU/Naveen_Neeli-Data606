{
 "cells": [
  {
   "cell_type": "markdown",
   "id": "27b86ac3",
   "metadata": {},
   "source": [
    "## Exploratory Data Analysis"
   ]
  },
  {
   "cell_type": "code",
   "execution_count": 1,
   "id": "a085416f",
   "metadata": {},
   "outputs": [],
   "source": [
    "import pandas as pd\n",
    "import numpy as np\n",
    "import seaborn as sns\n",
    "from matplotlib import pyplot as plt\n",
    "import seaborn as sns"
   ]
  },
  {
   "cell_type": "markdown",
   "id": "662746bd",
   "metadata": {},
   "source": [
    "## Concatinating 12 Data Sets in to one Data Frame"
   ]
  },
  {
   "cell_type": "code",
   "execution_count": 2,
   "id": "9edb6534",
   "metadata": {},
   "outputs": [],
   "source": [
    "df1 = pd.read_csv('taxi_202201.csv')\n",
    "df2 = pd.read_csv('taxi_202202.csv')\n",
    "df3 = pd.read_csv('taxi_202203.csv')\n",
    "df4 = pd.read_csv('taxi_202204.csv')\n",
    "df5 = pd.read_csv('taxi_202205.csv')\n",
    "df6 = pd.read_csv('taxi_202206.csv')\n",
    "df7 = pd.read_csv('taxi_202207.csv')\n",
    "df8 = pd.read_csv('taxi_202208.csv')\n",
    "df9 = pd.read_csv('taxi_202209.csv')\n",
    "df10 = pd.read_csv('taxi_202210.csv')\n",
    "df11 = pd.read_csv('taxi_202211.csv')\n",
    "df12 = pd.read_csv('taxi_202212.csv')\n",
    "\n",
    "df_concat = pd.concat([df1, df2, df3, df4, df5, df6, df7, df8, df9, df10, df11, df12]) "
   ]
  },
  {
   "cell_type": "code",
   "execution_count": 3,
   "id": "cadca4ce",
   "metadata": {},
   "outputs": [
    {
     "data": {
      "text/plain": [
       "(2906989, 27)"
      ]
     },
     "execution_count": 3,
     "metadata": {},
     "output_type": "execute_result"
    }
   ],
   "source": [
    "df_concat.shape"
   ]
  },
  {
   "cell_type": "code",
   "execution_count": 4,
   "id": "955794f7",
   "metadata": {},
   "outputs": [
    {
     "name": "stdout",
     "output_type": "stream",
     "text": [
      "<class 'pandas.core.frame.DataFrame'>\n",
      "Int64Index: 2906989 entries, 0 to 228472\n",
      "Data columns (total 27 columns):\n",
      " #   Column                  Dtype  \n",
      "---  ------                  -----  \n",
      " 0   OBJECTID                int64  \n",
      " 1   TRIPTYPE                object \n",
      " 2   PROVIDERNAME            float64\n",
      " 3   FAREAMOUNT              float64\n",
      " 4   GRATUITYAMOUNT          float64\n",
      " 5   SURCHARGEAMOUNT         float64\n",
      " 6   EXTRAFAREAMOUNT         float64\n",
      " 7   TOLLAMOUNT              float64\n",
      " 8   TOTALAMOUNT             float64\n",
      " 9   PAYMENTTYPE             int64  \n",
      " 10  ORIGINCITY              object \n",
      " 11  ORIGINSTATE             object \n",
      " 12  ORIGINZIP               object \n",
      " 13  DESTINATIONCITY         object \n",
      " 14  DESTINATIONSTATE        object \n",
      " 15  DESTINATIONZIP          object \n",
      " 16  MILEAGE                 float64\n",
      " 17  DURATION                float64\n",
      " 18  ORIGIN_BLOCK_LATITUDE   float64\n",
      " 19  ORIGIN_BLOCK_LONGITUDE  float64\n",
      " 20  ORIGIN_BLOCKNAME        object \n",
      " 21  DESTINATION_BLOCK_LAT   float64\n",
      " 22  DESTINATION_BLOCK_LONG  float64\n",
      " 23  DESTINATION_BLOCKNAME   object \n",
      " 24  AIRPORT                 object \n",
      " 25  ORIGINDATETIME_TR       object \n",
      " 26  DESTINATIONDATETIME_TR  object \n",
      "dtypes: float64(13), int64(2), object(12)\n",
      "memory usage: 621.0+ MB\n"
     ]
    }
   ],
   "source": [
    "df_concat.info()"
   ]
  },
  {
   "cell_type": "markdown",
   "id": "d51495df",
   "metadata": {},
   "source": [
    "## Checking Null Values"
   ]
  },
  {
   "cell_type": "code",
   "execution_count": 5,
   "id": "bec70112",
   "metadata": {},
   "outputs": [
    {
     "data": {
      "text/plain": [
       "OBJECTID                        0\n",
       "TRIPTYPE                        0\n",
       "PROVIDERNAME              2906989\n",
       "FAREAMOUNT                 156559\n",
       "GRATUITYAMOUNT             156559\n",
       "SURCHARGEAMOUNT            156559\n",
       "EXTRAFAREAMOUNT            156559\n",
       "TOLLAMOUNT                 156559\n",
       "TOTALAMOUNT                     2\n",
       "PAYMENTTYPE                     0\n",
       "ORIGINCITY                      0\n",
       "ORIGINSTATE                  4855\n",
       "ORIGINZIP                       0\n",
       "DESTINATIONCITY                 0\n",
       "DESTINATIONSTATE             5117\n",
       "DESTINATIONZIP                  0\n",
       "MILEAGE                         0\n",
       "DURATION                       68\n",
       "ORIGIN_BLOCK_LATITUDE      455405\n",
       "ORIGIN_BLOCK_LONGITUDE     455405\n",
       "ORIGIN_BLOCKNAME           455405\n",
       "DESTINATION_BLOCK_LAT      652454\n",
       "DESTINATION_BLOCK_LONG     652454\n",
       "DESTINATION_BLOCKNAME      652454\n",
       "AIRPORT                   2327694\n",
       "ORIGINDATETIME_TR               0\n",
       "DESTINATIONDATETIME_TR          0\n",
       "dtype: int64"
      ]
     },
     "execution_count": 5,
     "metadata": {},
     "output_type": "execute_result"
    }
   ],
   "source": [
    "df_concat.isnull().sum()"
   ]
  },
  {
   "cell_type": "markdown",
   "id": "94bae3de",
   "metadata": {},
   "source": [
    "## Dropping PROVIDERNAME and AIRPORT columns which has most of the Nan values"
   ]
  },
  {
   "cell_type": "code",
   "execution_count": 6,
   "id": "f9d53149",
   "metadata": {},
   "outputs": [],
   "source": [
    "df_concat = df_concat.drop(['PROVIDERNAME','AIRPORT'], axis=1)"
   ]
  },
  {
   "cell_type": "code",
   "execution_count": 7,
   "id": "8b6b71dc",
   "metadata": {},
   "outputs": [
    {
     "data": {
      "text/plain": [
       "OBJECTID                       0\n",
       "TRIPTYPE                       0\n",
       "FAREAMOUNT                156559\n",
       "GRATUITYAMOUNT            156559\n",
       "SURCHARGEAMOUNT           156559\n",
       "EXTRAFAREAMOUNT           156559\n",
       "TOLLAMOUNT                156559\n",
       "TOTALAMOUNT                    2\n",
       "PAYMENTTYPE                    0\n",
       "ORIGINCITY                     0\n",
       "ORIGINSTATE                 4855\n",
       "ORIGINZIP                      0\n",
       "DESTINATIONCITY                0\n",
       "DESTINATIONSTATE            5117\n",
       "DESTINATIONZIP                 0\n",
       "MILEAGE                        0\n",
       "DURATION                      68\n",
       "ORIGIN_BLOCK_LATITUDE     455405\n",
       "ORIGIN_BLOCK_LONGITUDE    455405\n",
       "ORIGIN_BLOCKNAME          455405\n",
       "DESTINATION_BLOCK_LAT     652454\n",
       "DESTINATION_BLOCK_LONG    652454\n",
       "DESTINATION_BLOCKNAME     652454\n",
       "ORIGINDATETIME_TR              0\n",
       "DESTINATIONDATETIME_TR         0\n",
       "dtype: int64"
      ]
     },
     "execution_count": 7,
     "metadata": {},
     "output_type": "execute_result"
    }
   ],
   "source": [
    "df_concat.isnull().sum()"
   ]
  },
  {
   "cell_type": "markdown",
   "id": "f38706b8",
   "metadata": {},
   "source": [
    "## Slicing data set to only DC city"
   ]
  },
  {
   "cell_type": "code",
   "execution_count": 8,
   "id": "64851590",
   "metadata": {},
   "outputs": [
    {
     "data": {
      "text/plain": [
       "washington          2521868\n",
       "arlington            318657\n",
       "none                  10243\n",
       "-                      9634\n",
       "unknown                4858\n",
       "washington, d.c.       3811\n",
       "alexandria             2885\n",
       " arlington             2373\n",
       "bethesda               1781\n",
       "silver spring          1251\n",
       "mclean                 1150\n",
       "sterling               1145\n",
       "hyattsville             975\n",
       "oxon hill               944\n",
       " hyattsville            884\n",
       "national harbor         841\n",
       " silver spring          801\n",
       "capitol heights         743\n",
       " chevy chase            741\n",
       "district heights        697\n",
       "chevy chase             661\n",
       " capitol heights        623\n",
       "fort myer               566\n",
       "arlington county        561\n",
       " alexandria             545\n",
       "chillum                 531\n",
       " bethesda               513\n",
       " chillum                420\n",
       "lanham                  407\n",
       "takoma park             385\n",
       "Name: ORIGINCITY, dtype: int64"
      ]
     },
     "execution_count": 8,
     "metadata": {},
     "output_type": "execute_result"
    }
   ],
   "source": [
    "df_concat['ORIGINCITY'] = df_concat['ORIGINCITY'].replace({'washington, d.c.':'washington'})\n",
    "df_concat['ORIGINCITY'] = df_concat['ORIGINCITY'].apply(str.lower)\n",
    "top_10= df_concat['ORIGINCITY'].value_counts(ascending=False)\n",
    "top_10.nlargest(30)"
   ]
  },
  {
   "cell_type": "markdown",
   "id": "10a329b2",
   "metadata": {},
   "source": [
    "## Making sure every city name looks similar"
   ]
  },
  {
   "cell_type": "code",
   "execution_count": 9,
   "id": "a667a4b9",
   "metadata": {},
   "outputs": [
    {
     "data": {
      "text/plain": [
       "washington          2399208\n",
       "arlington            191879\n",
       "alexandria            23098\n",
       " arlington            22866\n",
       "bethesda              19223\n",
       "floris                13428\n",
       "silver spring         11353\n",
       "national harbor       11077\n",
       "-                      8025\n",
       "chillum                7364\n",
       "oxon hill              6909\n",
       "sterling               6854\n",
       "hyattsville            5812\n",
       "arlington county       5539\n",
       "chevy chase            5486\n",
       "unknown                5118\n",
       "none                   5096\n",
       "mclean                 5002\n",
       " hyattsville           4912\n",
       " silver spring         4691\n",
       " alexandria            4284\n",
       "potomac                3648\n",
       "takoma park            3606\n",
       "washington, d.c.       3563\n",
       " oxon hill             3536\n",
       "rockville              3335\n",
       " dulles                3094\n",
       " capitol heights       2865\n",
       "falls church           2613\n",
       " 1 saarinen cir        2579\n",
       "Name: DESTINATIONCITY, dtype: int64"
      ]
     },
     "execution_count": 9,
     "metadata": {},
     "output_type": "execute_result"
    }
   ],
   "source": [
    "df_concat['DESTINATIONCITY'] = df_concat['DESTINATIONCITY'].replace({'washington, d.c.':'washington'})\n",
    "df_concat['DESTINATIONCITY'] = df_concat['DESTINATIONCITY'].apply(str.lower)\n",
    "top_10_2= df_concat['DESTINATIONCITY'].value_counts(ascending=False)\n",
    "top_10_2.nlargest(30)"
   ]
  },
  {
   "cell_type": "markdown",
   "id": "f9827f60",
   "metadata": {},
   "source": [
    "## Slicing Data to set both origin and destination within Washington"
   ]
  },
  {
   "cell_type": "code",
   "execution_count": 10,
   "id": "0316de3c",
   "metadata": {},
   "outputs": [],
   "source": [
    "df_final = df_concat[(df_concat['ORIGINCITY'] == 'washington') & (df_concat['DESTINATIONCITY'] == 'washington')]"
   ]
  },
  {
   "cell_type": "markdown",
   "id": "d520d811",
   "metadata": {},
   "source": [
    "## Droping columns which might not helpful for the model prediction"
   ]
  },
  {
   "cell_type": "code",
   "execution_count": 11,
   "id": "e54058f7",
   "metadata": {},
   "outputs": [],
   "source": [
    "df_final = df_final.drop(['OBJECTID','TRIPTYPE','ORIGINCITY','DESTINATIONCITY','ORIGIN_BLOCKNAME','ORIGINSTATE','ORIGINZIP','DESTINATIONSTATE','DESTINATIONZIP','DESTINATION_BLOCKNAME','DESTINATIONZIP','DESTINATIONZIP'], axis=1)"
   ]
  },
  {
   "cell_type": "markdown",
   "id": "91bc5321",
   "metadata": {},
   "source": [
    "## Considering, only rows containing latitude and longitude values without null values"
   ]
  },
  {
   "cell_type": "code",
   "execution_count": 12,
   "id": "8ba44ba9",
   "metadata": {},
   "outputs": [],
   "source": [
    "df_final = df_final[df_final.ORIGIN_BLOCK_LATITUDE.notnull() & df_final.ORIGIN_BLOCK_LONGITUDE.notnull() & df_final.DESTINATION_BLOCK_LAT.notnull() & df_final.DESTINATION_BLOCK_LONG.notnull()]"
   ]
  },
  {
   "cell_type": "markdown",
   "id": "b73eedd9",
   "metadata": {},
   "source": [
    "## Final Data set shape"
   ]
  },
  {
   "cell_type": "code",
   "execution_count": 13,
   "id": "383f5475",
   "metadata": {},
   "outputs": [
    {
     "data": {
      "text/plain": [
       "(1896057, 15)"
      ]
     },
     "execution_count": 13,
     "metadata": {},
     "output_type": "execute_result"
    }
   ],
   "source": [
    "df_final.shape"
   ]
  },
  {
   "cell_type": "markdown",
   "id": "a5e6de09",
   "metadata": {},
   "source": [
    "## Filling column average values for cells containing Nan Values"
   ]
  },
  {
   "cell_type": "code",
   "execution_count": 14,
   "id": "6dfe5637",
   "metadata": {},
   "outputs": [],
   "source": [
    "df_final['FAREAMOUNT'] = df_final['FAREAMOUNT'].fillna(df_final['FAREAMOUNT'].mean())\n",
    "df_final['GRATUITYAMOUNT'] = df_final['GRATUITYAMOUNT'].fillna(df_final['GRATUITYAMOUNT'].mean())\n",
    "df_final['SURCHARGEAMOUNT'] = df_final['SURCHARGEAMOUNT'].fillna(df_final['SURCHARGEAMOUNT'].mean())\n",
    "df_final['EXTRAFAREAMOUNT'] = df_final['EXTRAFAREAMOUNT'].fillna(df_final['EXTRAFAREAMOUNT'].mean())\n",
    "df_final['TOLLAMOUNT'] = df_final['TOLLAMOUNT'].fillna(df_final['TOLLAMOUNT'].mean())\n",
    "df_final['TOTALAMOUNT'] = df_final['TOTALAMOUNT'].fillna(df_final['TOTALAMOUNT'].mean())"
   ]
  },
  {
   "cell_type": "code",
   "execution_count": 15,
   "id": "7244a894",
   "metadata": {},
   "outputs": [
    {
     "data": {
      "text/html": [
       "<div>\n",
       "<style scoped>\n",
       "    .dataframe tbody tr th:only-of-type {\n",
       "        vertical-align: middle;\n",
       "    }\n",
       "\n",
       "    .dataframe tbody tr th {\n",
       "        vertical-align: top;\n",
       "    }\n",
       "\n",
       "    .dataframe thead th {\n",
       "        text-align: right;\n",
       "    }\n",
       "</style>\n",
       "<table border=\"1\" class=\"dataframe\">\n",
       "  <thead>\n",
       "    <tr style=\"text-align: right;\">\n",
       "      <th></th>\n",
       "      <th>FAREAMOUNT</th>\n",
       "      <th>GRATUITYAMOUNT</th>\n",
       "      <th>SURCHARGEAMOUNT</th>\n",
       "      <th>EXTRAFAREAMOUNT</th>\n",
       "      <th>TOLLAMOUNT</th>\n",
       "      <th>TOTALAMOUNT</th>\n",
       "      <th>PAYMENTTYPE</th>\n",
       "      <th>MILEAGE</th>\n",
       "      <th>DURATION</th>\n",
       "      <th>ORIGIN_BLOCK_LATITUDE</th>\n",
       "      <th>ORIGIN_BLOCK_LONGITUDE</th>\n",
       "      <th>DESTINATION_BLOCK_LAT</th>\n",
       "      <th>DESTINATION_BLOCK_LONG</th>\n",
       "      <th>ORIGINDATETIME_TR</th>\n",
       "      <th>DESTINATIONDATETIME_TR</th>\n",
       "    </tr>\n",
       "  </thead>\n",
       "  <tbody>\n",
       "    <tr>\n",
       "      <th>1</th>\n",
       "      <td>8.65</td>\n",
       "      <td>3.10</td>\n",
       "      <td>0.00</td>\n",
       "      <td>0.25</td>\n",
       "      <td>0.0</td>\n",
       "      <td>12.00</td>\n",
       "      <td>1</td>\n",
       "      <td>1.53</td>\n",
       "      <td>90.0</td>\n",
       "      <td>38.896115</td>\n",
       "      <td>-76.990888</td>\n",
       "      <td>38.896116</td>\n",
       "      <td>-76.989277</td>\n",
       "      <td>01/01/2022 00:00</td>\n",
       "      <td>01/01/2022 00:00</td>\n",
       "    </tr>\n",
       "    <tr>\n",
       "      <th>4</th>\n",
       "      <td>12.78</td>\n",
       "      <td>0.00</td>\n",
       "      <td>0.25</td>\n",
       "      <td>0.00</td>\n",
       "      <td>0.0</td>\n",
       "      <td>16.61</td>\n",
       "      <td>4</td>\n",
       "      <td>2.85</td>\n",
       "      <td>975.0</td>\n",
       "      <td>38.899817</td>\n",
       "      <td>-77.026514</td>\n",
       "      <td>38.919941</td>\n",
       "      <td>-77.000047</td>\n",
       "      <td>01/01/2022 00:00</td>\n",
       "      <td>01/01/2022 00:00</td>\n",
       "    </tr>\n",
       "    <tr>\n",
       "      <th>8</th>\n",
       "      <td>12.97</td>\n",
       "      <td>0.00</td>\n",
       "      <td>0.25</td>\n",
       "      <td>0.00</td>\n",
       "      <td>0.0</td>\n",
       "      <td>13.22</td>\n",
       "      <td>2</td>\n",
       "      <td>3.56</td>\n",
       "      <td>820.0</td>\n",
       "      <td>38.896881</td>\n",
       "      <td>-77.006479</td>\n",
       "      <td>38.941507</td>\n",
       "      <td>-77.005127</td>\n",
       "      <td>01/01/2022 00:00</td>\n",
       "      <td>01/01/2022 00:00</td>\n",
       "    </tr>\n",
       "    <tr>\n",
       "      <th>10</th>\n",
       "      <td>7.03</td>\n",
       "      <td>0.00</td>\n",
       "      <td>0.25</td>\n",
       "      <td>0.00</td>\n",
       "      <td>0.0</td>\n",
       "      <td>7.28</td>\n",
       "      <td>2</td>\n",
       "      <td>1.28</td>\n",
       "      <td>412.0</td>\n",
       "      <td>38.916643</td>\n",
       "      <td>-77.031951</td>\n",
       "      <td>38.935117</td>\n",
       "      <td>-77.032733</td>\n",
       "      <td>01/01/2022 00:00</td>\n",
       "      <td>01/01/2022 00:00</td>\n",
       "    </tr>\n",
       "    <tr>\n",
       "      <th>11</th>\n",
       "      <td>5.68</td>\n",
       "      <td>0.00</td>\n",
       "      <td>0.25</td>\n",
       "      <td>2.25</td>\n",
       "      <td>0.0</td>\n",
       "      <td>11.10</td>\n",
       "      <td>1</td>\n",
       "      <td>1.17</td>\n",
       "      <td>416.0</td>\n",
       "      <td>38.896737</td>\n",
       "      <td>-77.028086</td>\n",
       "      <td>38.907175</td>\n",
       "      <td>-77.036530</td>\n",
       "      <td>01/01/2022 00:00</td>\n",
       "      <td>01/01/2022 00:00</td>\n",
       "    </tr>\n",
       "    <tr>\n",
       "      <th>...</th>\n",
       "      <td>...</td>\n",
       "      <td>...</td>\n",
       "      <td>...</td>\n",
       "      <td>...</td>\n",
       "      <td>...</td>\n",
       "      <td>...</td>\n",
       "      <td>...</td>\n",
       "      <td>...</td>\n",
       "      <td>...</td>\n",
       "      <td>...</td>\n",
       "      <td>...</td>\n",
       "      <td>...</td>\n",
       "      <td>...</td>\n",
       "      <td>...</td>\n",
       "      <td>...</td>\n",
       "    </tr>\n",
       "    <tr>\n",
       "      <th>228465</th>\n",
       "      <td>16.48</td>\n",
       "      <td>5.00</td>\n",
       "      <td>1.25</td>\n",
       "      <td>0.00</td>\n",
       "      <td>0.0</td>\n",
       "      <td>22.73</td>\n",
       "      <td>1</td>\n",
       "      <td>3.61</td>\n",
       "      <td>1570.0</td>\n",
       "      <td>38.897204</td>\n",
       "      <td>-77.008388</td>\n",
       "      <td>38.932935</td>\n",
       "      <td>-77.028086</td>\n",
       "      <td>12/31/2022 23:00</td>\n",
       "      <td>12/31/2022 23:00</td>\n",
       "    </tr>\n",
       "    <tr>\n",
       "      <th>228466</th>\n",
       "      <td>19.45</td>\n",
       "      <td>5.00</td>\n",
       "      <td>1.25</td>\n",
       "      <td>0.00</td>\n",
       "      <td>0.0</td>\n",
       "      <td>25.70</td>\n",
       "      <td>1</td>\n",
       "      <td>5.40</td>\n",
       "      <td>1696.0</td>\n",
       "      <td>38.896881</td>\n",
       "      <td>-77.006479</td>\n",
       "      <td>38.925439</td>\n",
       "      <td>-77.073188</td>\n",
       "      <td>12/31/2022 23:00</td>\n",
       "      <td>12/31/2022 23:00</td>\n",
       "    </tr>\n",
       "    <tr>\n",
       "      <th>228467</th>\n",
       "      <td>9.05</td>\n",
       "      <td>0.00</td>\n",
       "      <td>1.25</td>\n",
       "      <td>1.25</td>\n",
       "      <td>0.0</td>\n",
       "      <td>10.30</td>\n",
       "      <td>2</td>\n",
       "      <td>2.04</td>\n",
       "      <td>622.0</td>\n",
       "      <td>38.896881</td>\n",
       "      <td>-77.006479</td>\n",
       "      <td>38.898995</td>\n",
       "      <td>-76.976990</td>\n",
       "      <td>12/31/2022 23:00</td>\n",
       "      <td>12/31/2022 23:00</td>\n",
       "    </tr>\n",
       "    <tr>\n",
       "      <th>228469</th>\n",
       "      <td>13.78</td>\n",
       "      <td>0.00</td>\n",
       "      <td>1.25</td>\n",
       "      <td>0.00</td>\n",
       "      <td>0.0</td>\n",
       "      <td>15.03</td>\n",
       "      <td>2</td>\n",
       "      <td>2.91</td>\n",
       "      <td>1217.0</td>\n",
       "      <td>38.896881</td>\n",
       "      <td>-77.006479</td>\n",
       "      <td>38.899774</td>\n",
       "      <td>-77.054955</td>\n",
       "      <td>12/31/2022 23:00</td>\n",
       "      <td>12/31/2022 23:00</td>\n",
       "    </tr>\n",
       "    <tr>\n",
       "      <th>228471</th>\n",
       "      <td>18.64</td>\n",
       "      <td>3.78</td>\n",
       "      <td>1.25</td>\n",
       "      <td>0.00</td>\n",
       "      <td>0.0</td>\n",
       "      <td>23.67</td>\n",
       "      <td>1</td>\n",
       "      <td>4.90</td>\n",
       "      <td>1545.0</td>\n",
       "      <td>38.897204</td>\n",
       "      <td>-77.008388</td>\n",
       "      <td>38.938807</td>\n",
       "      <td>-77.060396</td>\n",
       "      <td>12/31/2022 23:00</td>\n",
       "      <td>12/31/2022 23:00</td>\n",
       "    </tr>\n",
       "  </tbody>\n",
       "</table>\n",
       "<p>1896057 rows × 15 columns</p>\n",
       "</div>"
      ],
      "text/plain": [
       "        FAREAMOUNT  GRATUITYAMOUNT  SURCHARGEAMOUNT  EXTRAFAREAMOUNT  \\\n",
       "1             8.65            3.10             0.00             0.25   \n",
       "4            12.78            0.00             0.25             0.00   \n",
       "8            12.97            0.00             0.25             0.00   \n",
       "10            7.03            0.00             0.25             0.00   \n",
       "11            5.68            0.00             0.25             2.25   \n",
       "...            ...             ...              ...              ...   \n",
       "228465       16.48            5.00             1.25             0.00   \n",
       "228466       19.45            5.00             1.25             0.00   \n",
       "228467        9.05            0.00             1.25             1.25   \n",
       "228469       13.78            0.00             1.25             0.00   \n",
       "228471       18.64            3.78             1.25             0.00   \n",
       "\n",
       "        TOLLAMOUNT  TOTALAMOUNT  PAYMENTTYPE  MILEAGE  DURATION  \\\n",
       "1              0.0        12.00            1     1.53      90.0   \n",
       "4              0.0        16.61            4     2.85     975.0   \n",
       "8              0.0        13.22            2     3.56     820.0   \n",
       "10             0.0         7.28            2     1.28     412.0   \n",
       "11             0.0        11.10            1     1.17     416.0   \n",
       "...            ...          ...          ...      ...       ...   \n",
       "228465         0.0        22.73            1     3.61    1570.0   \n",
       "228466         0.0        25.70            1     5.40    1696.0   \n",
       "228467         0.0        10.30            2     2.04     622.0   \n",
       "228469         0.0        15.03            2     2.91    1217.0   \n",
       "228471         0.0        23.67            1     4.90    1545.0   \n",
       "\n",
       "        ORIGIN_BLOCK_LATITUDE  ORIGIN_BLOCK_LONGITUDE  DESTINATION_BLOCK_LAT  \\\n",
       "1                   38.896115              -76.990888              38.896116   \n",
       "4                   38.899817              -77.026514              38.919941   \n",
       "8                   38.896881              -77.006479              38.941507   \n",
       "10                  38.916643              -77.031951              38.935117   \n",
       "11                  38.896737              -77.028086              38.907175   \n",
       "...                       ...                     ...                    ...   \n",
       "228465              38.897204              -77.008388              38.932935   \n",
       "228466              38.896881              -77.006479              38.925439   \n",
       "228467              38.896881              -77.006479              38.898995   \n",
       "228469              38.896881              -77.006479              38.899774   \n",
       "228471              38.897204              -77.008388              38.938807   \n",
       "\n",
       "        DESTINATION_BLOCK_LONG ORIGINDATETIME_TR DESTINATIONDATETIME_TR  \n",
       "1                   -76.989277  01/01/2022 00:00       01/01/2022 00:00  \n",
       "4                   -77.000047  01/01/2022 00:00       01/01/2022 00:00  \n",
       "8                   -77.005127  01/01/2022 00:00       01/01/2022 00:00  \n",
       "10                  -77.032733  01/01/2022 00:00       01/01/2022 00:00  \n",
       "11                  -77.036530  01/01/2022 00:00       01/01/2022 00:00  \n",
       "...                        ...               ...                    ...  \n",
       "228465              -77.028086  12/31/2022 23:00       12/31/2022 23:00  \n",
       "228466              -77.073188  12/31/2022 23:00       12/31/2022 23:00  \n",
       "228467              -76.976990  12/31/2022 23:00       12/31/2022 23:00  \n",
       "228469              -77.054955  12/31/2022 23:00       12/31/2022 23:00  \n",
       "228471              -77.060396  12/31/2022 23:00       12/31/2022 23:00  \n",
       "\n",
       "[1896057 rows x 15 columns]"
      ]
     },
     "execution_count": 15,
     "metadata": {},
     "output_type": "execute_result"
    }
   ],
   "source": [
    "df_final"
   ]
  },
  {
   "cell_type": "markdown",
   "id": "c04832fe",
   "metadata": {},
   "source": [
    "## Heatmap to visualize missing values"
   ]
  },
  {
   "cell_type": "code",
   "execution_count": null,
   "id": "8bb1eb73",
   "metadata": {},
   "outputs": [],
   "source": [
    "sns.heatmap(df_final.isnull(),cbar=False,cmap='viridis')"
   ]
  },
  {
   "cell_type": "code",
   "execution_count": null,
   "id": "622ac81c",
   "metadata": {},
   "outputs": [],
   "source": [
    "plt.figure(figsize=(20,20))\n",
    "g=sns.heatmap(df_concat.corr(),annot=True,cmap=\"RdYlGn\")"
   ]
  },
  {
   "cell_type": "code",
   "execution_count": null,
   "id": "01c93f2b",
   "metadata": {},
   "outputs": [],
   "source": []
  }
 ],
 "metadata": {
  "kernelspec": {
   "display_name": "Python 3 (ipykernel)",
   "language": "python",
   "name": "python3"
  },
  "language_info": {
   "codemirror_mode": {
    "name": "ipython",
    "version": 3
   },
   "file_extension": ".py",
   "mimetype": "text/x-python",
   "name": "python",
   "nbconvert_exporter": "python",
   "pygments_lexer": "ipython3",
   "version": "3.9.13"
  }
 },
 "nbformat": 4,
 "nbformat_minor": 5
}
